{
 "cells": [
  {
   "cell_type": "code",
   "execution_count": 1,
   "id": "302894d8",
   "metadata": {},
   "outputs": [
    {
     "name": "stdout",
     "output_type": "stream",
     "text": [
      "   A  B  C\n",
      "0  1  4  7\n",
      "         A    B    C\n",
      "count  3.0  3.0  3.0\n",
      "mean   2.0  5.0  8.0\n",
      "std    1.0  1.0  1.0\n",
      "min    1.0  4.0  7.0\n",
      "25%    1.5  4.5  7.5\n",
      "50%    2.0  5.0  8.0\n",
      "75%    2.5  5.5  8.5\n",
      "max    3.0  6.0  9.0\n",
      "grouped    B  C\n",
      "A      \n",
      "1  4  7\n",
      "2  5  8\n",
      "3  6  9\n",
      "   A  B  C     D\n",
      "0  1  4  7  10.0\n",
      "1  2  5  8  11.0\n",
      "2  3  6  9   NaN\n"
     ]
    }
   ],
   "source": [
    "'''\n",
    "pd.read_csv(): Reads a CSV file into a DataFrame.\n",
    "df.head(): Returns the first n rows of the DataFrame.\n",
    "df.describe(): Generates descriptive statistics of the DataFrame.\n",
    "df.groupby(): Groups the DataFrame using a mapper or by a series of columns.\n",
    "df.merge(): Merges DataFrame or named series objects with a database-style join.\n",
    "'''\n",
    "\n",
    "import pandas as pd\n",
    "\n",
    "data = {'A': [1, 2, 3], 'B': [4, 5, 6], 'C': [7, 8, 9]}\n",
    "df = pd.DataFrame(data)\n",
    "\n",
    "\n",
    "print(df.head(1))\n",
    "\n",
    "print(df.describe())\n",
    "\n",
    "grouped = df.groupby('A').sum()\n",
    "print(f'grouped',grouped)\n",
    "\n",
    "df2 = pd.DataFrame({'A': [1, 2, 4], 'D': [10, 11, 12]})\n",
    "merged_df = pd.merge(df, df2, on='A', how='left')\n",
    "print(merged_df)\n"
   ]
  },
  {
   "cell_type": "code",
   "execution_count": 2,
   "id": "6345fbb2",
   "metadata": {},
   "outputs": [
    {
     "name": "stdout",
     "output_type": "stream",
     "text": [
      "   A  B  C\n",
      "1  1  4  7\n",
      "3  2  5  8\n",
      "5  3  6  9\n"
     ]
    }
   ],
   "source": [
    "'''question 2'''\n",
    "def reindex_dataframe(df):\n",
    "    df.index = range(1, 2*len(df) + 1, 2)\n",
    "    return df\n",
    "\n",
    "# Sample DataFrame\n",
    "data = {'A': [1, 2, 3], 'B': [4, 5, 6], 'C': [7, 8, 9]}\n",
    "df = pd.DataFrame(data)\n",
    "print(reindex_dataframe(df))\n"
   ]
  },
  {
   "cell_type": "code",
   "execution_count": 3,
   "id": "80f6b261",
   "metadata": {},
   "outputs": [
    {
     "name": "stdout",
     "output_type": "stream",
     "text": [
      "   Values\n",
      "0      10\n",
      "1      20\n",
      "2      30\n",
      "3      40\n",
      "4      50\n",
      "The sum of the first three values is: 60\n"
     ]
    }
   ],
   "source": [
    "'''Question 3'''\n",
    "def sum_first_three(df):\n",
    "    sum_values = df['Values'][:3].sum()\n",
    "    print(f\"The sum of the first three values is: {sum_values}\")\n",
    "\n",
    "# Sample DataFrame\n",
    "data = {'Values': [10, 20, 30, 40, 50]}\n",
    "df = pd.DataFrame(data)\n",
    "print(df)\n",
    "sum_first_three(df)\n"
   ]
  },
  {
   "cell_type": "code",
   "execution_count": 24,
   "id": "f383ca95",
   "metadata": {},
   "outputs": [
    {
     "name": "stdout",
     "output_type": "stream",
     "text": [
      "                 Text\n",
      "0         Hello world\n",
      "1     Pandas is great\n",
      "2  Python programming\n",
      "                 Text  Word_Count\n",
      "0         Hello world           2\n",
      "1     Pandas is great           3\n",
      "2  Python programming           2\n"
     ]
    }
   ],
   "source": [
    "'''question 4'''\n",
    "def add_word_count(df):\n",
    "    df['Word_Count'] = df['Text'].apply(lambda x: len(str(x).split(\" \")))\n",
    "    return df\n",
    "\n",
    "# Sample DataFrame\n",
    "data = {'Text': [\"Hello world\", \"Pandas is great\", \"Python programming\",]}\n",
    "df = pd.DataFrame(data)\n",
    "print(df)\n",
    "print(add_word_count(df))\n"
   ]
  },
  {
   "cell_type": "code",
   "execution_count": 5,
   "id": "7d2de99c",
   "metadata": {},
   "outputs": [
    {
     "data": {
      "text/plain": [
       "'\\nDataFrame.size: Returns the number of elements in the DataFrame (i.e., number of rows * number of columns).\\nDataFrame.shape: Returns a tuple representing the dimensionality of the DataFrame (i.e., number of rows, number of columns).\\n'"
      ]
     },
     "execution_count": 5,
     "metadata": {},
     "output_type": "execute_result"
    }
   ],
   "source": [
    "'''Question 5'''\n",
    "'''\n",
    "DataFrame.size: Returns the number of elements in the DataFrame (i.e., number of rows * number of columns).\n",
    "DataFrame.shape: Returns a tuple representing the dimensionality of the DataFrame (i.e., number of rows, number of columns).\n",
    "'''"
   ]
  },
  {
   "cell_type": "code",
   "execution_count": 12,
   "id": "04d42499",
   "metadata": {},
   "outputs": [
    {
     "data": {
      "text/plain": [
       "'\\nfunction used to read excel file is pd.read_excel()\\n'"
      ]
     },
     "execution_count": 12,
     "metadata": {},
     "output_type": "execute_result"
    }
   ],
   "source": [
    "'''question 6'''\n",
    "'''\n",
    "function used to read excel file is pd.read_excel()\n",
    "'''"
   ]
  },
  {
   "cell_type": "code",
   "execution_count": 31,
   "id": "be6b2896",
   "metadata": {},
   "outputs": [
    {
     "name": "stdout",
     "output_type": "stream",
     "text": [
      "                    Email    Username\n",
      "0    john.doe@example.com    john.doe\n",
      "1  jane.smith@example.com  jane.smith\n"
     ]
    }
   ],
   "source": [
    "'''Question 7'''\n",
    "def extract_username(df):\n",
    "    df['Username'] = df['Email'].apply(lambda x: x.split('@')[0])\n",
    "    return df\n",
    "\n",
    "# Sample DataFrame\n",
    "data = {'Email': ['john.doe@example.com', 'jane.smith@example.com']}\n",
    "df = pd.DataFrame(data)\n",
    "print(extract_username(df))\n"
   ]
  },
  {
   "cell_type": "code",
   "execution_count": 61,
   "id": "1290e377",
   "metadata": {},
   "outputs": [
    {
     "name": "stdout",
     "output_type": "stream",
     "text": [
      "    A  B  C\n",
      "1  86  5  8\n"
     ]
    }
   ],
   "source": [
    "'''question 8'''\n",
    "\n",
    "def selectrows(df):\n",
    "    selected=df[(df['A']>5) & (df['B']<10)]\n",
    "    return selected\n",
    "\n",
    "data = {'A': [8, 86, 3], 'B': [66, 5, 8], 'C': [7, 8, 9]}\n",
    "df = pd.DataFrame(data)\n",
    "print(selectrows(df))"
   ]
  },
  {
   "cell_type": "code",
   "execution_count": 60,
   "id": "77808fe1",
   "metadata": {},
   "outputs": [
    {
     "name": "stdout",
     "output_type": "stream",
     "text": [
      "Mean: 30.0, Median: 30.0, Standard Deviation: 15.811388300841896\n"
     ]
    }
   ],
   "source": [
    "'''question 9'''\n",
    "\n",
    "def calculate_statistics(df):\n",
    "    mean = df['Values'].mean()\n",
    "    median = df['Values'].median()\n",
    "    std_dev = df['Values'].std()\n",
    "    return mean, median, std_dev\n",
    "\n",
    "# Sample DataFrame\n",
    "data = {'Values': [10, 20, 30, 40, 50]}\n",
    "df = pd.DataFrame(data)\n",
    "mean, median, std_dev = calculate_statistics(df)\n",
    "print(f\"Mean: {mean}, Median: {median}, Standard Deviation: {std_dev}\")\n"
   ]
  },
  {
   "cell_type": "code",
   "execution_count": 59,
   "id": "e1d6aba6",
   "metadata": {},
   "outputs": [
    {
     "name": "stdout",
     "output_type": "stream",
     "text": [
      "    Sales       Date\n",
      "0     100 2023-01-01\n",
      "1       1 2023-01-02\n",
      "2     200 2023-01-03\n",
      "3    4545 2023-01-04\n",
      "4     300 2023-01-05\n",
      "5     400 2023-01-06\n",
      "6     355 2023-01-07\n",
      "7     500 2023-01-08\n",
      "8     545 2023-01-09\n",
      "9     600 2023-01-10\n",
      "10    700 2023-01-11\n",
      "11    800 2023-01-12\n",
      "12    900 2023-01-13\n",
      "13    455 2023-01-14\n",
      "14   1000 2023-01-15\n",
      "    Sales       Date  MovingAverage\n",
      "0     100 2023-01-01     100.000000\n",
      "1       1 2023-01-02      50.500000\n",
      "2     200 2023-01-03     100.333333\n",
      "3    4545 2023-01-04    1211.500000\n",
      "4     300 2023-01-05    1029.200000\n",
      "5     400 2023-01-06     924.333333\n",
      "6     355 2023-01-07     843.000000\n",
      "7     500 2023-01-08     900.142857\n",
      "8     545 2023-01-09     977.857143\n",
      "9     600 2023-01-10    1035.000000\n",
      "10    700 2023-01-11     485.714286\n",
      "11    800 2023-01-12     557.142857\n",
      "12    900 2023-01-13     628.571429\n",
      "13    455 2023-01-14     642.857143\n",
      "14   1000 2023-01-15     714.285714\n"
     ]
    }
   ],
   "source": [
    "'''question 10'''\n",
    "\n",
    "def add_moving_average(df):\n",
    "    df['MovingAverage'] = df['Sales'].rolling(window=7, min_periods=1).mean()\n",
    "    return df\n",
    "\n",
    "# Sample DataFrame\n",
    "data = {'Sales': [100,1, 200,4545, 300, 400,355, 500,545, 600, 700, 800, 900,455, 1000], \n",
    "        'Date': pd.date_range(start='1/1/2023', periods=15)}\n",
    "df = pd.DataFrame(data)\n",
    "print(df)\n",
    "print(add_moving_average(df))\n"
   ]
  },
  {
   "cell_type": "code",
   "execution_count": 54,
   "id": "d00aeac0",
   "metadata": {},
   "outputs": [
    {
     "name": "stdout",
     "output_type": "stream",
     "text": [
      "         Date    Weekday\n",
      "0  2023-01-01     Sunday\n",
      "1  2023-01-02     Monday\n",
      "2  2023-01-03    Tuesday\n",
      "3  2023-01-04  Wednesday\n",
      "4  2023-01-05   Thursday\n"
     ]
    }
   ],
   "source": [
    "'''question 11'''\n",
    "\n",
    "def add_weekday(df):\n",
    "    df['Weekday'] = pd.to_datetime(df['Date']).dt.day_name()\n",
    "    return df\n",
    "\n",
    "# Sample DataFrame\n",
    "data = {'Date': ['2023-01-01', '2023-01-02', '2023-01-03', '2023-01-04', '2023-01-05']}\n",
    "df = pd.DataFrame(data)\n",
    "print(add_weekday(df))\n"
   ]
  },
  {
   "cell_type": "code",
   "execution_count": 55,
   "id": "3941ecf3",
   "metadata": {},
   "outputs": [
    {
     "name": "stdout",
     "output_type": "stream",
     "text": [
      "        Date\n",
      "0 2023-01-01\n",
      "2 2023-01-15\n",
      "3 2023-01-25\n"
     ]
    }
   ],
   "source": [
    "'''question 12'''\n",
    "\n",
    "def select_date_range(df):\n",
    "    df['Date'] = pd.to_datetime(df['Date'])\n",
    "    filtered_df = df[(df['Date'] >= '2023-01-01') & (df['Date'] <= '2023-01-31')]\n",
    "    return filtered_df\n",
    "\n",
    "# Sample DataFrame\n",
    "data = {'Date': ['2023-01-01', '2023-02-01', '2023-01-15', '2023-01-25']}\n",
    "df = pd.DataFrame(data)\n",
    "print(select_date_range(df))\n"
   ]
  },
  {
   "cell_type": "code",
   "execution_count": 58,
   "id": "9d6ddd50",
   "metadata": {},
   "outputs": [],
   "source": [
    "'''question 13'''\n",
    "\n",
    "'''\n",
    "The first and foremost necessary library to import is pandas:\n",
    "'''\n",
    "import pandas as pd"
   ]
  },
  {
   "cell_type": "code",
   "execution_count": null,
   "id": "db3824c2",
   "metadata": {},
   "outputs": [],
   "source": []
  }
 ],
 "metadata": {
  "kernelspec": {
   "display_name": "Python 3 (ipykernel)",
   "language": "python",
   "name": "python3"
  },
  "language_info": {
   "codemirror_mode": {
    "name": "ipython",
    "version": 3
   },
   "file_extension": ".py",
   "mimetype": "text/x-python",
   "name": "python",
   "nbconvert_exporter": "python",
   "pygments_lexer": "ipython3",
   "version": "3.11.4"
  }
 },
 "nbformat": 4,
 "nbformat_minor": 5
}
